{
 "cells": [
  {
   "cell_type": "markdown",
   "metadata": {},
   "source": [
    "## RemoteRunnable 사용\n",
    "\n",
    "FastAPI 서버를 사용하여 구동하고 있는 langserve 기반 Runnable 을 사용하는 방법입니다."
   ]
  },
  {
   "cell_type": "code",
   "execution_count": null,
   "metadata": {},
   "outputs": [],
   "source": [
    "from langserve import RemoteRunnable\n",
    "from langchain_teddynote.messages import stream_response\n",
    "\n",
    "# 서버 주소 설정(localhost 기준)\n",
    "rag_chain = RemoteRunnable(\"http://0.0.0.0:8000/rag\")\n",
    "\n",
    "# 체인 실행\n",
    "answer = rag_chain.stream(\"삼성전자가 개발한 생성형 AI 의 이름은?\")\n",
    "stream_response(answer)"
   ]
  },
  {
   "cell_type": "markdown",
   "metadata": {},
   "source": [
    "## NGROK 사용\n",
    "\n",
    "NGROK 설정방법\n",
    "- Mac: https://dashboard.ngrok.com/get-started/setup/macos\n",
    "- Windows: https://dashboard.ngrok.com/get-started/setup/windows\n",
    "- Linux: https://dashboard.ngrok.com/get-started/setup/linux\n",
    "\n",
    "**임시 도메인 포워딩**\n",
    "\n",
    "`ngrok http localhost:8000`\n",
    "\n",
    "----\n",
    "\n",
    "**고정된 도메인 포워딩**\n",
    "\n",
    "- NGROK 도메인 등록 링크: https://dashboard.ngrok.com/cloud-edge/domains\n",
    "\n",
    "`ngrok http --domain=도메인입력 8000`\n",
    "\n",
    "ngrok http --domain=fastcampus.ngrok.app 8000"
   ]
  },
  {
   "cell_type": "code",
   "execution_count": null,
   "metadata": {},
   "outputs": [],
   "source": [
    "from langserve import RemoteRunnable\n",
    "from langchain_teddynote.messages import stream_response\n",
    "\n",
    "# 서버 주소 설정(NGROK 도메인 주소)\n",
    "rag_chain = RemoteRunnable(\"https://fastcampus.ngrok.app/rag\")\n",
    "\n",
    "# 체인 실행\n",
    "answer = rag_chain.stream(\"삼성전자가 개발한 생성형 AI 의 이름은?\")\n",
    "stream_response(answer)"
   ]
  }
 ],
 "metadata": {
  "kernelspec": {
   "display_name": "py-test",
   "language": "python",
   "name": "python3"
  },
  "language_info": {
   "codemirror_mode": {
    "name": "ipython",
    "version": 3
   },
   "file_extension": ".py",
   "mimetype": "text/x-python",
   "name": "python",
   "nbconvert_exporter": "python",
   "pygments_lexer": "ipython3",
   "version": "3.11.9"
  }
 },
 "nbformat": 4,
 "nbformat_minor": 2
}
